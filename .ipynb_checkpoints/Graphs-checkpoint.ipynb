{
 "cells": [
  {
   "cell_type": "code",
   "execution_count": 12,
   "metadata": {
    "collapsed": true
   },
   "outputs": [],
   "source": [
    "import numpy as np\n",
    "import networkx as nx\n",
    "import itertools"
   ]
  },
  {
   "cell_type": "code",
   "execution_count": 34,
   "metadata": {
    "collapsed": false,
    "scrolled": true
   },
   "outputs": [
    {
     "name": "stdout",
     "output_type": "stream",
     "text": [
      "[[0 1 0 0 0]\n",
      " [1 0 1 0 0]\n",
      " [0 1 0 1 0]\n",
      " [0 0 1 0 1]\n",
      " [0 0 0 1 0]]\n"
     ]
    }
   ],
   "source": [
    "#load the binary tree adjacency matrix.\n",
    "#graph = np.loadtxt(\"adjacency_tree.txt\", int)\n",
    "#graph = nx.to_numpy_matrix(nx.petersen_graph(), dtype=np.int)\n",
    "graph = nx.to_numpy_matrix(nx.path_graph(5), dtype=int).astype(int)\n",
    "print(graph)"
   ]
  },
  {
   "cell_type": "code",
   "execution_count": 14,
   "metadata": {
    "collapsed": false
   },
   "outputs": [
    {
     "name": "stdout",
     "output_type": "stream",
     "text": [
      "7\n"
     ]
    }
   ],
   "source": [
    "# Order - simply count the number of rows\n",
    "order = graph.shape[1]\n",
    "print(order)"
   ]
  },
  {
   "cell_type": "code",
   "execution_count": 15,
   "metadata": {
    "collapsed": false
   },
   "outputs": [
    {
     "name": "stdout",
     "output_type": "stream",
     "text": [
      "6.0\n"
     ]
    }
   ],
   "source": [
    "#Size - count all the entries in the matrix, divide by 2 (since each edge is listed twice)\n",
    "size = np.sum(graph)/2\n",
    "print(size)"
   ]
  },
  {
   "cell_type": "code",
   "execution_count": 16,
   "metadata": {
    "collapsed": false
   },
   "outputs": [
    {
     "name": "stdout",
     "output_type": "stream",
     "text": [
      "[3, 3, 2, 1, 1, 1, 1]\n",
      "3\n",
      "1\n"
     ]
    }
   ],
   "source": [
    "# Max degree, min degree, and degree sequence\n",
    "degseq = sorted(np.sum(graph, axis=1), reverse=True)\n",
    "maxdeg = max(degseq)\n",
    "mindeg = min(degseq)\n",
    "\n",
    "print(degseq)\n",
    "print(maxdeg)\n",
    "print(mindeg)"
   ]
  },
  {
   "cell_type": "code",
   "execution_count": 17,
   "metadata": {
    "collapsed": false
   },
   "outputs": [
    {
     "name": "stdout",
     "output_type": "stream",
     "text": [
      "[4, 4, 3, 2, 3, 4, 4]\n",
      "4\n",
      "2\n"
     ]
    }
   ],
   "source": [
    "# Eccentricity, radius and diameter\n",
    "def ecc(row):\n",
    "    found = [row]\n",
    "    depth = 0\n",
    "    # Repeat until we found all verticies\n",
    "    while set(range(graph.shape[0])) > set(found):\n",
    "        foundcpy = found[:]\n",
    "        depth = depth + 1\n",
    "        for x in found:\n",
    "            for y in range(graph.shape[0]):\n",
    "                if graph[x,y] == 1 and y not in foundcpy:\n",
    "                    foundcpy.append(y)\n",
    "        found = foundcpy\n",
    "    return depth\n",
    "\n",
    "ecclist = {}\n",
    "for x in range(graph.shape[0]):\n",
    "    # print(\"Checking %d , %d\" % (x,y))\n",
    "    ecclist[x] = ecc(x)\n",
    "\n",
    "ecclist = list(ecclist.values())\n",
    "radius = min(ecclist)\n",
    "diameter = max(ecclist)\n",
    "\n",
    "print(ecclist)\n",
    "print(diameter)\n",
    "print(radius)"
   ]
  },
  {
   "cell_type": "code",
   "execution_count": 18,
   "metadata": {
    "collapsed": false
   },
   "outputs": [
    {
     "name": "stdout",
     "output_type": "stream",
     "text": [
      "Chromatic number is 2\n"
     ]
    }
   ],
   "source": [
    "# Brute force algo for the chromatic number.\n",
    "# Start with 2 colors\n",
    "cnum = 1\n",
    "valid = False\n",
    "while not valid:\n",
    "    # print(\"Trying %d colors\" % cnum)\n",
    "    for coloring in itertools.product(range(cnum), repeat=graph.shape[0]):\n",
    "        # this gives us something like (0, 0, 1, 0, 1)\n",
    "        # each number is a color\n",
    "        # check all adjacencies of all edges, if color matches, break and check next coloring\n",
    "        if valid == False: # if valid still true, we found a coloring, can stop checking\n",
    "            valid = True\n",
    "            for x in range(graph.shape[0] - 1):\n",
    "                if valid: # Saves some time when checking\n",
    "                    for y in range(graph.shape[0] - 1):\n",
    "                        # check adjacency\n",
    "                        if x!=y and graph[x,y] == 1:\n",
    "                            # check \n",
    "                            valid = valid and (coloring[x] != coloring[y])\n",
    "    if not valid:\n",
    "        cnum = cnum + 1\n",
    "print(\"Chromatic number is %d\" % cnum)"
   ]
  },
  {
   "cell_type": "code",
   "execution_count": 19,
   "metadata": {
    "collapsed": false
   },
   "outputs": [
    {
     "name": "stdout",
     "output_type": "stream",
     "text": [
      "5\n"
     ]
    }
   ],
   "source": [
    "# Neighbors helper function, used in a few things.\n",
    "def neighbors(vertex):\n",
    "    nset = []\n",
    "    for y in range(graph.shape[0]):\n",
    "        if graph[vertex,y] == 1:\n",
    "            nset.append(y)\n",
    "    return nset\n",
    "\n",
    "# Powerset helper function, used for brute force algorithms.\n",
    "def powerset(iterable):\n",
    "    s = list(iterable)\n",
    "    return itertools.chain.from_iterable(itertools.combinations(s, r) for r in range(len(s)+1))\n",
    "\n",
    "# Independence number brute force algo.\n",
    "indep = 0\n",
    "for vset in powerset(range(graph.shape[0])):\n",
    "    valid = True\n",
    "    for node in vset:\n",
    "        if any(i in vset for i in neighbors(node)): # Check if any neighbors are in our set (i.e. not independent)\n",
    "            valid = False\n",
    "    if valid:\n",
    "        indep = len(vset)\n",
    "print(indep)"
   ]
  },
  {
   "cell_type": "code",
   "execution_count": 20,
   "metadata": {
    "collapsed": false
   },
   "outputs": [
    {
     "name": "stdout",
     "output_type": "stream",
     "text": [
      "2\n"
     ]
    }
   ],
   "source": [
    "# Clique number.\n",
    "# Python implementation of the Bron–Kerbosch algorithm.\n",
    "# We don't need to return the clique with the number, just the number itself.\n",
    "\n",
    "clique_number = 0\n",
    "\n",
    "def BronKerbosch(R, P, X):\n",
    "    global clique_number\n",
    "    if len(P) == 0 and len(X) == 0:\n",
    "        if len(R) > clique_number:\n",
    "            clique_number = len(R)\n",
    "    for v in P[:]:\n",
    "        R_v = R + [v]\n",
    "        P_v = list(set(P).intersection(neighbors(v)))\n",
    "        X_v = list(set(X).intersection(neighbors(v)))\n",
    "        BronKerbosch(R_v, P_v, X_v)\n",
    "        P.remove(v)\n",
    "        X.append(v)\n",
    "BronKerbosch([], list(range(graph.shape[0] - 1)), [])\n",
    "\n",
    "print(clique_number)"
   ]
  },
  {
   "cell_type": "code",
   "execution_count": 21,
   "metadata": {
    "collapsed": false
   },
   "outputs": [
    {
     "name": "stdout",
     "output_type": "stream",
     "text": [
      "3\n",
      "2\n"
     ]
    }
   ],
   "source": [
    "# Domination number.\n",
    "# Brute force check of all the vertex sets.\n",
    "def total_domination_number():\n",
    "    for vset in powerset(range(graph.shape[0])):\n",
    "        nset = np.zeros(graph.shape[0], int)\n",
    "        for v in vset:\n",
    "            np.bitwise_or(nset, graph[v], nset) # bonus points for using bitwise or\n",
    "        if sum(nset) == graph.shape[0]:\n",
    "            return len(vset)\n",
    "\n",
    "def domination_number():\n",
    "    for vset in powerset(range(graph.shape[0])):\n",
    "        nset = np.zeros(graph.shape[0], int)\n",
    "        for v in vset:\n",
    "            nset[v] = 1  # Only difference from total domination - start with vertexes\n",
    "            np.bitwise_or(nset, graph[v], nset)\n",
    "        if sum(nset) == graph.shape[0]:\n",
    "            return len(vset)      \n",
    "\n",
    "print(total_domination_number())\n",
    "print(domination_number())"
   ]
  },
  {
   "cell_type": "code",
   "execution_count": 35,
   "metadata": {
    "collapsed": false
   },
   "outputs": [
    {
     "name": "stdout",
     "output_type": "stream",
     "text": [
      "()\n",
      "[]\n",
      "(0,)\n",
      "[0, 1]\n",
      "[0, 1, 2]\n",
      "[0, 1, 2, 3]\n",
      "[0, 1, 2, 3, 4]\n",
      "[0, 1, 2, 3, 4]\n",
      "1\n"
     ]
    }
   ],
   "source": [
    "# Brute force zero forcing number algorithm\n",
    "# Check all neighbors of each vertex and see if they are in the set.\n",
    "# If there is one and only one neighbor, add it to the set, and repeat until we can't add any new neighbors\n",
    "def coloring_rec(vset):\n",
    "    vset_c = vset[:]\n",
    "    for vertex in vset:\n",
    "        ncn = [] \n",
    "        for neighbor in neighbors(vertex):\n",
    "            if neighbor not in vset_c:\n",
    "                ncn.append(neighbor)\n",
    "        if len(ncn) == 1: # Append the nonconnected neighbor to vset.\n",
    "            vset_c.append(ncn[0])\n",
    "        # did we add new nodes?  if so, run coloring again\n",
    "    if vset_c != vset:\n",
    "        vset_r = vset_c[:]\n",
    "        return coloring_rec(vset_r)\n",
    "    else:\n",
    "        return vset\n",
    "\n",
    "zero_forcing = -1\n",
    "    \n",
    "for vset in powerset(range(graph.shape[0])):\n",
    "    vcopy = coloring_rec(list(vset))\n",
    "    if list(range(graph.shape[0])) == sorted(list(vcopy)):\n",
    "        # found one - return it\n",
    "        print(vset)\n",
    "        zero_forcing = len(vset)\n",
    "        break\n",
    "\n",
    "print(zero_forcing)"
   ]
  },
  {
   "cell_type": "code",
   "execution_count": 23,
   "metadata": {
    "collapsed": false
   },
   "outputs": [
    {
     "data": {
      "text/plain": [
       "[2, 4]"
      ]
     },
     "execution_count": 23,
     "metadata": {},
     "output_type": "execute_result"
    }
   ],
   "source": [
    "neighbors(3)"
   ]
  },
  {
   "cell_type": "code",
   "execution_count": 24,
   "metadata": {
    "collapsed": false
   },
   "outputs": [
    {
     "name": "stdout",
     "output_type": "stream",
     "text": [
      "[0, 1, 2, 3, 4, 5, 6]\n"
     ]
    }
   ],
   "source": [
    "print(list(range(7)))"
   ]
  }
 ],
 "metadata": {
  "anaconda-cloud": {},
  "kernelspec": {
   "display_name": "Python 3",
   "language": "python",
   "name": "python3"
  },
  "language_info": {
   "codemirror_mode": {
    "name": "ipython",
    "version": 3
   },
   "file_extension": ".py",
   "mimetype": "text/x-python",
   "name": "python",
   "nbconvert_exporter": "python",
   "pygments_lexer": "ipython3",
   "version": "3.6.0"
  }
 },
 "nbformat": 4,
 "nbformat_minor": 1
}
