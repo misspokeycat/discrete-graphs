{
 "cells": [
  {
   "cell_type": "code",
   "execution_count": 1,
   "metadata": {
    "collapsed": true
   },
   "outputs": [],
   "source": [
    "import numpy as np\n",
    "import networkx as nx\n",
    "import matplotlib.pyplot as plt"
   ]
  },
  {
   "cell_type": "code",
   "execution_count": 2,
   "metadata": {
    "collapsed": true
   },
   "outputs": [],
   "source": [
    "testcase = np.matrix([\n",
    "    [0, 1, 1],\n",
    "    [0, 2, 3],\n",
    "    [0, 4, 4],\n",
    "    [0, 5, 3],\n",
    "    [1, 3, 1],\n",
    "    [2, 3, 2],\n",
    "    [4, 5, 1]\n",
    "])"
   ]
  },
  {
   "cell_type": "code",
   "execution_count": 11,
   "metadata": {
    "collapsed": false
   },
   "outputs": [],
   "source": [
    "tree = nx.Graph()\n",
    "G = nx.Graph()\n",
    "graph = np.array(testcase)\n",
    "graph = tuple(map(tuple, graph))\n",
    "G.add_weighted_edges_from(graph)\n",
    "# Start with the first node in the graph\n",
    "tree.add_node(G.nodes()[0])\n"
   ]
  },
  {
   "cell_type": "code",
   "execution_count": 4,
   "metadata": {
    "collapsed": false
   },
   "outputs": [
    {
     "name": "stdout",
     "output_type": "stream",
     "text": [
      "((0, 1, 1), (0, 2, 3), (0, 4, 4), (0, 5, 3), (1, 3, 1), (2, 3, 2), (4, 5, 1))\n"
     ]
    }
   ],
   "source": [
    "print(graph)"
   ]
  },
  {
   "cell_type": "code",
   "execution_count": 12,
   "metadata": {
    "collapsed": false
   },
   "outputs": [
    {
     "name": "stdout",
     "output_type": "stream",
     "text": [
      "(0, 1, 1)\n",
      "[0, 1]\n",
      "(1, 3, 1)\n",
      "[0, 1, 3]\n",
      "(3, 2, 2)\n",
      "[0, 1, 2, 3]\n",
      "(0, 5, 3)\n",
      "[0, 1, 2, 3, 5]\n",
      "(5, 4, 1)\n",
      "[0, 1, 2, 3, 4, 5]\n"
     ]
    }
   ],
   "source": [
    "# Find the minimum weight edge connected to the nodes in the new graph\n",
    "edges = 0\n",
    "while (edges < len(G.nodes()) - 1):\n",
    "    minweight = 999999999\n",
    "    minedge = (-1, -1)\n",
    "    for node in tree.nodes():\n",
    "        for neighbor in G.neighbors(node):\n",
    "            if G.get_edge_data(node, neighbor)['weight'] < minweight:\n",
    "                if (neighbor in tree.nodes()) == False:\n",
    "                    minweight = G.get_edge_data(node, neighbor)['weight']\n",
    "                    minedge = (node, neighbor, minweight)\n",
    "    # Add the edge to the new graph\n",
    "    tree.add_weighted_edges_from([minedge])\n",
    "    edges = edges + 1"
   ]
  },
  {
   "cell_type": "code",
   "execution_count": null,
   "metadata": {
    "collapsed": false
   },
   "outputs": [],
   "source": [
    "neighbor = 0\n",
    "tree.node No\n"
   ]
  },
  {
   "cell_type": "code",
   "execution_count": 15,
   "metadata": {
    "collapsed": false
   },
   "outputs": [
    {
     "data": {
      "text/plain": [
       "[(0, 1), (0, 5), (1, 3), (2, 3), (4, 5)]"
      ]
     },
     "execution_count": 15,
     "metadata": {},
     "output_type": "execute_result"
    }
   ],
   "source": [
    "tree.nodes()\n",
    "tree.edges()"
   ]
  }
 ],
 "metadata": {
  "anaconda-cloud": {},
  "kernelspec": {
   "display_name": "Python [default]",
   "language": "python",
   "name": "python3"
  },
  "language_info": {
   "codemirror_mode": {
    "name": "ipython",
    "version": 3
   },
   "file_extension": ".py",
   "mimetype": "text/x-python",
   "name": "python",
   "nbconvert_exporter": "python",
   "pygments_lexer": "ipython3",
   "version": "3.5.2"
  }
 },
 "nbformat": 4,
 "nbformat_minor": 1
}
