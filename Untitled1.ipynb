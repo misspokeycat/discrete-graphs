{
 "cells": [
  {
   "cell_type": "code",
   "execution_count": 1,
   "metadata": {
    "collapsed": false
   },
   "outputs": [],
   "source": [
    "# minimum forcing number for flower snarks\n",
    "import numpy as np # numpy is a great math/array library\n",
    "import networkx as nx # netowrkx is a graph library, very useful for manipulating graphs\n",
    "from itertools import chain, combinations\n",
    "\n",
    "# Brute force algorithm for forcing number of sets.\n",
    "# Checks all combinations of vectors,\n",
    "# starting with single vectors and increasing until n-1\n",
    "G = nx.hypercube_graph(3)"
   ]
  },
  {
   "cell_type": "code",
   "execution_count": 2,
   "metadata": {
    "collapsed": false
   },
   "outputs": [
    {
     "name": "stdout",
     "output_type": "stream",
     "text": [
      "[(0, 1, 1), (1, 0, 0), (0, 0, 1), (1, 0, 1), (0, 0, 0), (1, 1, 1), (1, 1, 0), (0, 1, 0)]\n"
     ]
    }
   ],
   "source": [
    "print(G.nodes())"
   ]
  },
  {
   "cell_type": "code",
   "execution_count": 3,
   "metadata": {
    "collapsed": false
   },
   "outputs": [],
   "source": [
    "def powerset(iterable):\n",
    "    \"powerset([1,2,3]) --> () (1,) (2,) (3,) (1,2) (1,3) (2,3) (1,2,3)\"\n",
    "    s = list(iterable)\n",
    "    return chain.from_iterable(combinations(s, r) for r in range(len(s)+1))"
   ]
  },
  {
   "cell_type": "code",
   "execution_count": 4,
   "metadata": {
    "collapsed": false
   },
   "outputs": [],
   "source": [
    "loop = list(powerset(G.nodes()))"
   ]
  },
  {
   "cell_type": "code",
   "execution_count": 5,
   "metadata": {
    "collapsed": false
   },
   "outputs": [],
   "source": [
    "# We'll use each entry in the list as a "
   ]
  },
  {
   "cell_type": "code",
   "execution_count": 7,
   "metadata": {
    "collapsed": false
   },
   "outputs": [
    {
     "data": {
      "text/plain": [
       "[1, 2, 3]"
      ]
     },
     "execution_count": 7,
     "metadata": {},
     "output_type": "execute_result"
    }
   ],
   "source": [
    "list((1,2,3))"
   ]
  },
  {
   "cell_type": "code",
   "execution_count": 8,
   "metadata": {
    "collapsed": false
   },
   "outputs": [
    {
     "name": "stdout",
     "output_type": "stream",
     "text": [
      "((0, 1, 1), (1, 0, 0), (0, 0, 1), (1, 0, 1), (0, 0, 0), (1, 1, 1), (1, 1, 0))\n",
      "((0, 1, 1), (1, 0, 0), (0, 0, 1), (1, 0, 1), (0, 0, 0), (1, 1, 1), (1, 1, 0), (0, 1, 0))\n"
     ]
    }
   ],
   "source": [
    "# Check all neighbors of each vertex and see if they are in the set.\n",
    "# If there is one and only one neighbor, add it to the set\n",
    "for vset in loop:\n",
    "    vcopy = vset\n",
    "    for vertex in vset:\n",
    "        ncn = []\n",
    "        for neighbor in G.neighbors(vertex):\n",
    "            if neighbor not in vset:\n",
    "                ncn.append(neighbor)\n",
    "                #print(ncn)\n",
    "        if len(ncn) == 1: # Append the nonconnected neighbor to vset.\n",
    "            vset = vset + (ncn[0],)\n",
    "    if list(vset) == G.nodes():\n",
    "        # found one - return it\n",
    "        print(vcopy)"
   ]
  },
  {
   "cell_type": "code",
   "execution_count": null,
   "metadata": {
    "collapsed": false
   },
   "outputs": [],
   "source": [
    "a = []\n",
    "if 1 not in G.neighbors(1):\n",
    "    a.append(2)\n",
    "print(a[0])"
   ]
  }
 ],
 "metadata": {
  "anaconda-cloud": {},
  "kernelspec": {
   "display_name": "Python [default]",
   "language": "python",
   "name": "python3"
  },
  "language_info": {
   "codemirror_mode": {
    "name": "ipython",
    "version": 3
   },
   "file_extension": ".py",
   "mimetype": "text/x-python",
   "name": "python",
   "nbconvert_exporter": "python",
   "pygments_lexer": "ipython3",
   "version": "3.5.2"
  }
 },
 "nbformat": 4,
 "nbformat_minor": 1
}
